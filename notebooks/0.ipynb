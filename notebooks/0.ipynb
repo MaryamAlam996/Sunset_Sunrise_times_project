{
 "cells": [
  {
   "cell_type": "code",
   "execution_count": null,
   "id": "88dffee8",
   "metadata": {},
   "outputs": [
    {
     "name": "stdout",
     "output_type": "stream",
     "text": [
      "{'sunrise': '5:09:27 AM', 'sunset': '7:37:59 PM', 'solar_noon': '12:23:43 PM', 'day_length': '14:28:32', 'civil_twilight_begin': '4:41:07 AM', 'civil_twilight_end': '8:06:19 PM', 'nautical_twilight_begin': '4:04:19 AM', 'nautical_twilight_end': '8:43:07 PM', 'astronomical_twilight_begin': '3:23:47 AM', 'astronomical_twilight_end': '9:23:39 PM'}\n",
      "{'sunrise': '4:08:05 AM', 'sunset': '5:23:58 PM', 'solar_noon': '10:46:02 AM', 'day_length': '13:15:53', 'civil_twilight_begin': '3:45:10 AM', 'civil_twilight_end': '5:46:53 PM', 'nautical_twilight_begin': '3:16:32 AM', 'nautical_twilight_end': '6:15:31 PM', 'astronomical_twilight_begin': '2:47:01 AM', 'astronomical_twilight_end': '6:45:02 PM'}\n"
     ]
    }
   ],
   "source": [
    "import requests\n",
    "\n",
    "# https://api.sunrise-sunset.org/json?lat=36.7201600&lng=-4.4203400\n",
    "\n",
    "def get_sunrise_sunset(lat, lng):\n",
    "    url = f\"https://api.sunrise-sunset.org/json?lat={lat}&lng={lng}\"\n",
    "    response = requests.get(url)\n",
    "    \n",
    "    if response.status_code == 200:\n",
    "        data = response.json()\n",
    "        return data['results']\n",
    "    else:\n",
    "        return None\n",
    "\n",
    "print(get_sunrise_sunset(36.7201600, -4.4203400))  # Example coordinates for Malaga, Spain\n",
    "print(get_sunrise_sunset(20, 20))\n",
    "\n"
   ]
  },
  {
   "cell_type": "code",
   "execution_count": null,
   "id": "2d06c10c",
   "metadata": {},
   "outputs": [
    {
     "name": "stdout",
     "output_type": "stream",
     "text": [
      "                                   Value\n",
      "sunrise                       5:09:27 AM\n",
      "sunset                        7:37:59 PM\n",
      "solar_noon                   12:23:43 PM\n",
      "day_length                      14:28:32\n",
      "civil_twilight_begin          4:41:07 AM\n",
      "civil_twilight_end            8:06:19 PM\n",
      "nautical_twilight_begin       4:04:19 AM\n",
      "nautical_twilight_end         8:43:07 PM\n",
      "astronomical_twilight_begin   3:23:47 AM\n",
      "astronomical_twilight_end     9:23:39 PM\n"
     ]
    }
   ],
   "source": [
    "import requests\n",
    "import pandas as pd\n",
    "\n",
    "# https://api.sunrise-sunset.org/json?lat=36.7201600&lng=-4.4203400\n",
    "\n",
    "def get_sunrise_sunset(lat, lng):\n",
    "    url = f\"https://api.sunrise-sunset.org/json?lat={lat}&lng={lng}\"\n",
    "    response = requests.get(url)\n",
    "    \n",
    "    if response.status_code == 200:\n",
    "        data = response.json()\n",
    "        return data['results']\n",
    "    else:\n",
    "        return None\n",
    "\n",
    "TEST = get_sunrise_sunset(36.7201600, -4.4203400)  # Example coordinates for Malaga, Spain\n",
    "\n",
    "df = pd.DataFrame.from_dict(TEST, orient='index', columns=['Value'])\n",
    "print(df)"
   ]
  },
  {
   "cell_type": "code",
   "execution_count": null,
   "id": "1ac545c5",
   "metadata": {},
   "outputs": [],
   "source": []
  }
 ],
 "metadata": {
  "kernelspec": {
   "display_name": ".venv",
   "language": "python",
   "name": "python3"
  },
  "language_info": {
   "codemirror_mode": {
    "name": "ipython",
    "version": 3
   },
   "file_extension": ".py",
   "mimetype": "text/x-python",
   "name": "python",
   "nbconvert_exporter": "python",
   "pygments_lexer": "ipython3",
   "version": "3.11.0"
  }
 },
 "nbformat": 4,
 "nbformat_minor": 5
}
